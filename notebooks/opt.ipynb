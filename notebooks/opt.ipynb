{
 "cells": [
  {
   "cell_type": "code",
   "execution_count": 2,
   "metadata": {},
   "outputs": [],
   "source": [
    "import os,sys,inspect\n",
    "currentdir = os.path.dirname(os.path.abspath(inspect.getfile(inspect.currentframe())))\n",
    "parentdir = os.path.dirname(currentdir)\n",
    "sys.path.insert(0,parentdir)\n",
    "\n",
    "\n",
    "%matplotlib inline\n",
    "from nuscenes.nuscenes import NuScenes\n",
    "from util.depth_map_utils import *\n",
    "from PIL import Image\n",
    "\n",
    "import matplotlib.pyplot as plt\n",
    "import numpy as np\n",
    "import cv2\n",
    "from pyquaternion import Quaternion\n",
    "import time\n",
    "from torch.utils.data import DataLoader\n",
    "from util.data import *"
   ]
  },
  {
   "cell_type": "code",
   "execution_count": 3,
   "metadata": {},
   "outputs": [],
   "source": [
    "# load dataset\n",
    "nusc = NusceneDataset(root_dir='../dataset', train=True, normalize=False)\n",
    "\n",
    "mean = 0.\n",
    "std = 0.\n",
    "\n",
    "for i in range(len(nusc)):\n",
    "    img = nusc[i]['gt']\n",
    "    img = img.view(img.size(0), -1)\n",
    "    \n",
    "    mean += img.mean(1)\n",
    "    std += img.std(1)\n",
    "    \n",
    "mean /= len(nusc)\n",
    "std /= len(nusc)"
   ]
  },
  {
   "cell_type": "code",
   "execution_count": 4,
   "metadata": {},
   "outputs": [
    {
     "name": "stdout",
     "output_type": "stream",
     "text": [
      "Mean tensor([0.4127, 0.4185, 0.4089], dtype=torch.float64)\n",
      "Std tensor([0.2083, 0.2031, 0.2129], dtype=torch.float64)\n"
     ]
    }
   ],
   "source": [
    "print(\"Mean\", mean)\n",
    "print(\"Std\", std)"
   ]
  },
  {
   "cell_type": "code",
   "execution_count": null,
   "metadata": {},
   "outputs": [],
   "source": []
  }
 ],
 "metadata": {
  "kernelspec": {
   "display_name": "Python 3",
   "language": "python",
   "name": "python3"
  },
  "language_info": {
   "codemirror_mode": {
    "name": "ipython",
    "version": 3
   },
   "file_extension": ".py",
   "mimetype": "text/x-python",
   "name": "python",
   "nbconvert_exporter": "python",
   "pygments_lexer": "ipython3",
   "version": "3.6.8"
  }
 },
 "nbformat": 4,
 "nbformat_minor": 2
}
