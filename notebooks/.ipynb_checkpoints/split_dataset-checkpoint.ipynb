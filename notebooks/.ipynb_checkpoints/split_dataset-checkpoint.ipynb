{
 "cells": [
  {
   "cell_type": "code",
   "execution_count": 1,
   "metadata": {},
   "outputs": [],
   "source": [
    "import os\n",
    "import numpy as np\n",
    "import pandas as pd\n",
    "import re"
   ]
  },
  {
   "cell_type": "code",
   "execution_count": 2,
   "metadata": {},
   "outputs": [],
   "source": [
    "# read files\n",
    "files = os.listdir('../dataset/imgs')\n",
    "files = [file[:-4] for file in files]\n",
    "\n",
    "# read train - test split\n",
    "with open(\"../../scene_splits/train_scenes.txt\") as fout:\n",
    "    train_split = fout.read()\n",
    "    \n",
    "with open(\"../../scene_splits/test_scenes.txt\") as fout:\n",
    "    test_split = fout.read() \n",
    "    \n",
    "train_split = set(train_split.split(\"\\n\"))\n",
    "test_split = set(test_split.split(\"\\n\"))"
   ]
  },
  {
   "cell_type": "code",
   "execution_count": 3,
   "metadata": {},
   "outputs": [],
   "source": [
    "train_files = []\n",
    "test_files = []\n",
    "\n",
    "for file in files:\n",
    "    scene, frame_idx = file.split(\".\")\n",
    "    \n",
    "    if scene[:-2] in train_split:\n",
    "        train_files.append(file)\n",
    "    else:\n",
    "        test_files.append(file)"
   ]
  },
  {
   "cell_type": "code",
   "execution_count": 4,
   "metadata": {},
   "outputs": [],
   "source": [
    "train_csv = pd.DataFrame(train_files, columns=[\"name\"])\n",
    "test_csv = pd.DataFrame(test_files, columns=[\"name\"])"
   ]
  },
  {
   "cell_type": "code",
   "execution_count": 5,
   "metadata": {},
   "outputs": [],
   "source": [
    "train_csv.to_csv(\"../dataset/train.csv\", index=False)\n",
    "test_csv.to_csv(\"../dataset/test.csv\", index=False)"
   ]
  },
  {
   "cell_type": "code",
   "execution_count": 6,
   "metadata": {},
   "outputs": [],
   "source": [
    "train_csv = pd.read_csv(\"../dataset/train.csv\")\n",
    "test_csv = pd.read_csv(\"../dataset/test.csv\")"
   ]
  },
  {
   "cell_type": "code",
   "execution_count": null,
   "metadata": {},
   "outputs": [],
   "source": []
  }
 ],
 "metadata": {
  "kernelspec": {
   "display_name": "Python 3",
   "language": "python",
   "name": "python3"
  },
  "language_info": {
   "codemirror_mode": {
    "name": "ipython",
    "version": 3
   },
   "file_extension": ".py",
   "mimetype": "text/x-python",
   "name": "python",
   "nbconvert_exporter": "python",
   "pygments_lexer": "ipython3",
   "version": "3.6.8"
  }
 },
 "nbformat": 4,
 "nbformat_minor": 2
}
