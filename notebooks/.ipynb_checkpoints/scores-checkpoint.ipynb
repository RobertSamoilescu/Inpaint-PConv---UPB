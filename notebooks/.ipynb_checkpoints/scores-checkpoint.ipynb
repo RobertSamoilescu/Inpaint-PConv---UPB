{
 "cells": [
  {
   "cell_type": "code",
   "execution_count": null,
   "metadata": {},
   "outputs": [],
   "source": [
    "import os, sys, inspect\n",
    "currentdir = os.path.dirname(os.path.abspath(inspect.getfile(inspect.currentframe())))\n",
    "parentdir = os.path.dirname(currentdir)\n",
    "sys.path.insert(0,parentdir)\n",
    "\n",
    "import numpy as np\n",
    "import pandas as pd\n",
    "import pickle as pkl\n",
    "import random\n",
    "import torch\n",
    "import torch.nn\n",
    "import torch.nn.functional as F\n",
    "from torch.utils.data import Dataset, DataLoader\n",
    "from torchvision import transforms\n",
    "import os\n",
    "import matplotlib.pyplot as plt\n",
    "from PIL import Image\n",
    "import util.opt as opt\n",
    "from util.data import *\n",
    "from network.net import PConvUNet\n",
    "from util.image import unnormalize\n",
    "from collections import OrderedDict\n",
    "import tensorflow as tf\n",
    "from tqdm import tqdm"
   ]
  },
  {
   "cell_type": "markdown",
   "metadata": {},
   "source": [
    "## Read masks"
   ]
  },
  {
   "cell_type": "code",
   "execution_count": null,
   "metadata": {},
   "outputs": [],
   "source": [
    "test_csv = pd.read_csv(\"../dataset/test.csv\")\n",
    "files = test_csv.to_numpy().reshape(-1,)\n",
    "masks_paths =  [\"../dataset/masks/\" + file + \".png\" for file in files]\n",
    "masks = [np.array(Image.open(mask_path)) for mask_path in masks_paths]\n",
    "\n",
    "# compute fill ratio\n",
    "hole2image = [np.sum(mask == 0) / np.prod(mask.shape) for mask in masks]\n",
    "\n",
    "# plot histogram\n",
    "plt.hist(hole2image)\n",
    "plt.xlabel(\"hole to image ratio\")\n",
    "plt.ylabel(\"number of images\")\n",
    "plt.show()"
   ]
  },
  {
   "cell_type": "code",
   "execution_count": null,
   "metadata": {},
   "outputs": [],
   "source": [
    "bins = [0.01, 0.1, 0.2, 0.3, 0.4, 0.5, 0.6]\n",
    "disc_hole2image = pd.cut(x=hole2image, bins=bins)\n",
    "disc_hole2image = [str(x) for x in disc_hole2image]\n",
    "\n",
    "dict_masks = {}\n",
    "for i in range(len(masks)):\n",
    "    dh2i = disc_hole2image[i]\n",
    "    \n",
    "    if dh2i == 'nan':\n",
    "        continue\n",
    "        \n",
    "    dict_masks[dh2i] = dict_masks.get(dh2i, []) + [masks[i]]"
   ]
  },
  {
   "cell_type": "code",
   "execution_count": null,
   "metadata": {},
   "outputs": [],
   "source": [
    "ranges = ['(0.01, 0.1]', '(0.1, 0.2]', '(0.2, 0.3]', '(0.3, 0.4]', '(0.4, 0.5]', '(0.5, 0.6]']\n",
    "values = [len(dict_masks[rng]) for rng in ranges]\n",
    "\n",
    "plt.bar(ranges, values)\n",
    "plt.show()"
   ]
  },
  {
   "cell_type": "markdown",
   "metadata": {},
   "source": [
    "## Compute scores"
   ]
  },
  {
   "cell_type": "code",
   "execution_count": null,
   "metadata": {},
   "outputs": [],
   "source": [
    "def score_func(gts: list, outputs: list, func_name:str):\n",
    "    scores = []\n",
    "    sess = tf.Session()\n",
    "    \n",
    "    with sess.as_default():\n",
    "        for i in range(len(gts)):\n",
    "            gt, output = gts[i], outputs[i]\n",
    "            num_pixels = float(np.prod(gt.shape))\n",
    "            \n",
    "            gt = tf.convert_to_tensor(gt)\n",
    "            output = tf.convert_to_tensor(output)\n",
    "\n",
    "            if func_name == 'PSNR':\n",
    "                score = tf.image.psnr(gt, output, max_val=1.0)\n",
    "            elif func_name == 'SSIM':\n",
    "                score = tf.image.ssim(gt, output, max_val=1.0)\n",
    "            else:\n",
    "                score = tf.divide(tf.reduce_sum(tf.abs(gt - output)), num_pixels / 255.)\n",
    "\n",
    "            score = score.eval()\n",
    "            if score == np.inf:\n",
    "                continue\n",
    "            scores.append(score)\n",
    "            \n",
    "    return scores"
   ]
  },
  {
   "cell_type": "code",
   "execution_count": null,
   "metadata": {},
   "outputs": [],
   "source": [
    "# dictionary of metric functions\n",
    "metric_funcs = [ \"L1\", \"PSNR\", \"SSIM\"]\n",
    "\n",
    "# dictionary of metric scores\n",
    "metric_scores = {\n",
    "   '(0.01, 0.1]': OrderedDict(), \n",
    "    '(0.1, 0.2]': OrderedDict(), \n",
    "    '(0.2, 0.3]': OrderedDict(), \n",
    "    '(0.3, 0.4]': OrderedDict(), \n",
    "    '(0.4, 0.5]': OrderedDict(), \n",
    "    '(0.5, 0.6]': OrderedDict()\n",
    "}\n",
    "\n",
    "# define device\n",
    "device = torch.device(\"cuda\" if torch.cuda.is_available() else \"cpu\")\n",
    "\n",
    "# create dataset\n",
    "dataset = NusceneDataset('../dataset', train=False)\n",
    "dataloader = DataLoader(dataset, batch_size=32, num_workers=1, drop_last=False)\n",
    "\n",
    "# load model\n",
    "model = PConvUNet().to(device)\n",
    "ckpt_dict = torch.load(\"../snapshots_GAN/ckpt_GAN_alpha_0.75/1000000.pth\")\n",
    "model.load_state_dict(ckpt_dict[\"model\"], strict=False)\n",
    "model.eval()\n",
    "\n",
    "\n",
    "for rng in tqdm(dict_masks):\n",
    "    for i, sample in enumerate(dataloader):#len(dataset)):\n",
    "        gts = sample[\"gt\"].float().to(device)\n",
    "        \n",
    "        # sample a random maks from the current range\n",
    "        idx = np.random.choice(np.arange(len(dict_masks[rng])), size=gts.shape[0], replace=True)\n",
    "        masks = [dict_masks[rng][i] for i in idx]\n",
    "        masks = [np.expand_dims(mask / 255., 0).repeat(3, axis=0) for mask in masks]\n",
    "        masks = torch.tensor(np.stack(masks)).float().to(device)\n",
    "        \n",
    "        # image masked\n",
    "        imgs = gts * masks\n",
    "        \n",
    "        # get output\n",
    "        with torch.no_grad():\n",
    "            outputs, _ = model(imgs, masks)\n",
    "        outputs_comp = masks * imgs + (1 - masks) * outputs\n",
    "        \n",
    "        # send back to cpu\n",
    "        gts = gts.cpu()\n",
    "        outputs_comp = outputs_comp.cpu()\n",
    "        \n",
    "        # unnormalize\n",
    "        un_gts = unnormalize(gts)\n",
    "        un_outputs_comp = unnormalize(outputs_comp)\n",
    "        \n",
    "        # get them to range 0, 1\n",
    "        un_gts = torch.clamp(un_gts, 0., 1.)\n",
    "        un_outputs_comp = torch.clamp(un_outputs_comp, 0., 1.)\n",
    "        \n",
    "        # reshape and typing\n",
    "        un_gts = [x.transpose(1, 2, 0) for x in list(un_gts.numpy())]\n",
    "        un_outputs_comp = [x.transpose(1, 2, 0) for x in list(un_outputs_comp.numpy())]\n",
    "        for score_name in metric_funcs:\n",
    "            metric_scores[rng][score_name] = metric_scores[rng].get(score_name, []) + \\\n",
    "                score_func(un_gts, un_outputs_comp, score_name)\n",
    "        \n",
    "        break"
   ]
  },
  {
   "cell_type": "code",
   "execution_count": null,
   "metadata": {},
   "outputs": [],
   "source": [
    "statistics = {}\n",
    "\n",
    "for rng in tqdm(ranges):\n",
    "    statistics[rng] = []\n",
    "\n",
    "    for score_name in metric_funcs:\n",
    "        statistics[rng].append(np.mean(metric_scores[rng][score_name]))"
   ]
  },
  {
   "cell_type": "code",
   "execution_count": null,
   "metadata": {},
   "outputs": [],
   "source": [
    "results = pd.DataFrame(statistics, index=metric_funcs)\n",
    "results.to_csv(\"../results/vanilla_results.csv\")"
   ]
  },
  {
   "cell_type": "code",
   "execution_count": null,
   "metadata": {},
   "outputs": [],
   "source": [
    "results = pd.read_csv(\"../results/vanilla_results.csv\", index_col=0)\n",
    "results"
   ]
  },
  {
   "cell_type": "code",
   "execution_count": null,
   "metadata": {},
   "outputs": [],
   "source": []
  }
 ],
 "metadata": {
  "kernelspec": {
   "display_name": "Python 3",
   "language": "python",
   "name": "python3"
  },
  "language_info": {
   "codemirror_mode": {
    "name": "ipython",
    "version": 3
   },
   "file_extension": ".py",
   "mimetype": "text/x-python",
   "name": "python",
   "nbconvert_exporter": "python",
   "pygments_lexer": "ipython3",
   "version": "3.6.8"
  }
 },
 "nbformat": 4,
 "nbformat_minor": 2
}
